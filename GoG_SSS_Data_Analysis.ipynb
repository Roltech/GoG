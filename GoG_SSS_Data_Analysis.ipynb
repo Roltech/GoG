{
 "cells": [
  {
   "cell_type": "markdown",
   "id": "91358b50-5996-44b2-972c-67b9d45a5df9",
   "metadata": {},
   "source": [
    "Using SMAP data to plot different SSS years"
   ]
  },
  {
   "cell_type": "code",
   "execution_count": 1,
   "id": "25971ed8-9b69-4045-bc7a-990e5cb24121",
   "metadata": {},
   "outputs": [],
   "source": [
    "import xarray as ax\n",
    "import numpy as np\n",
    "import matplotlib.pyplot as plt\n",
    "import matplotlib\n",
    "from matplotlib import ticker, cm\n",
    "\n",
    "import cartopy.crs as ccrs                   # import projections\n",
    "import cartopy\n",
    "import gsw\n",
    "# import cftime\n",
    "\n",
    "import glob"
   ]
  },
  {
   "cell_type": "code",
   "execution_count": 2,
   "id": "f43f3b6c-b4d5-4a9a-a20c-f36f1745b850",
   "metadata": {},
   "outputs": [],
   "source": [
    "#%matplotlib inline\n",
    "%matplotlib qt5                         \n",
    "plt.rcParams['figure.figsize'] = (5,4)\n",
    "plt.rcParams['figure.dpi'] = 200\n",
    "plt.rcParams['savefig.dpi'] = 400\n",
    "plt.close('all')\n",
    "\n",
    "__figdir__ = '../SSS_PLOT/'\n",
    "savefig_args = {'bbox_inches':'tight', 'pad_inches':0.2}\n",
    "SSS_PLOT='png'\n",
    "\n",
    "savefig = 1"
   ]
  },
  {
   "cell_type": "code",
   "execution_count": 3,
   "id": "f136a241-e324-4cbc-acca-8bcab21b937a",
   "metadata": {},
   "outputs": [],
   "source": [
    "path_dir = r\"C:\\Users\\rolte\\Desktop\\MY RESEARCH ON GULF OF GUINEA\\SSS SMAP\\2017\""
   ]
  },
  {
   "cell_type": "code",
   "execution_count": 4,
   "id": "cf557d16-c255-42bf-8906-e5218250f776",
   "metadata": {},
   "outputs": [],
   "source": [
    "file_list = glob.glob(path_dir + \"\\RSS_smap_SSS_L3_8day_running_2017*FNL_v04.0.nc\")"
   ]
  },
  {
   "cell_type": "code",
   "execution_count": 5,
   "id": "8c9f635d-913d-48b6-8c3d-2911e5dc6e05",
   "metadata": {},
   "outputs": [
    {
     "name": "stdout",
     "output_type": "stream",
     "text": [
      "365\n"
     ]
    }
   ],
   "source": [
    "print(len(file_list))"
   ]
  },
  {
   "cell_type": "code",
   "execution_count": 6,
   "id": "2ee8f266-3fef-4666-b027-13431f0016b5",
   "metadata": {},
   "outputs": [
    {
     "name": "stdout",
     "output_type": "stream",
     "text": [
      "<xarray.Dataset>\n",
      "Dimensions:               (lon: 1440, lat: 720, time: 365)\n",
      "Coordinates:\n",
      "  * lon                   (lon) float32 0.125 0.375 0.625 ... 359.4 359.6 359.9\n",
      "  * lat                   (lat) float32 -89.88 -89.62 -89.38 ... 89.62 89.88\n",
      "  * time                  (time) datetime64[ns] 2017-01-01T12:00:00 ... 2017-...\n",
      "Data variables:\n",
      "    sss_smap              (time, lat, lon) float32 dask.array<chunksize=(1, 720, 1440), meta=np.ndarray>\n",
      "    sss_smap_uncertainty  (time, lat, lon) float32 dask.array<chunksize=(1, 720, 1440), meta=np.ndarray>\n",
      "    sss_smap_40km         (time, lat, lon) float32 dask.array<chunksize=(1, 720, 1440), meta=np.ndarray>\n",
      "    surtep                (time, lat, lon) float32 dask.array<chunksize=(1, 720, 1440), meta=np.ndarray>\n",
      "Attributes: (12/58)\n",
      "    Conventions:                                    CF-1.6, ACDD-1.3\n",
      "    standard_name_vocabulary:                       CF Standard Name Table v27\n",
      "    title:                                          SMAP ocean surface salinity\n",
      "    version:                                        V4.0 Validated Release\n",
      "    processing_level:                               L3\n",
      "    resolution:                                     Spatial resolution: appro...\n",
      "    ...                                             ...\n",
      "    qc_exclusions:                                  discard observations if o...\n",
      "    Source of SMAP SSS:                             Meissner, T., F. Wentz, A...\n",
      "    Source of  ancillary reference SSS from HYCOM:  Hybrid Coordinate Ocean M...\n",
      "    Source of ancillary SST:                        Canada Meteorological Cen...\n",
      "    Source of ancillary AMSR2 sea ice mask:         RSS AMSR2 sea-ice mask. W...\n",
      "    Source of ancillary land mask:                  1 km land/water mask from...\n"
     ]
    }
   ],
   "source": [
    "# Use Xarray to open all at once, concatenate along a given dimension\n",
    "\n",
    "# Open all files in file_list, concatenating along the \"time\" dimension. combine='nested' allows you to choose/specify which dimension\n",
    "ds_all = ax.open_mfdataset(file_list,combine='nested',concat_dim='time', drop_variables=['gice','fland','gland','nobs','nobs_40km','sss_ref'])\n",
    "print(ds_all)\n",
    "\n",
    "#ds_all.lon,ds_all.lat,ds_all.sss_smap"
   ]
  },
  {
   "cell_type": "code",
   "execution_count": 7,
   "id": "2c9991d0-b2d2-45b1-843c-fef943a88487",
   "metadata": {},
   "outputs": [],
   "source": [
    "#Define plot dimension\n",
    "Xo = 0\n",
    "Yo = 0\n",
    "X1 = 15\n",
    "Y1 = 10\n",
    "[xmin, xmax, ymin, ymax] = [Xo-X1, Xo+X1, Yo-Y1, Yo+Y1]\n",
    "extent = [xmin, xmax, ymin, ymax]\n",
    "#global_extent=True"
   ]
  },
  {
   "cell_type": "code",
   "execution_count": 8,
   "id": "5bfd4e66-aef3-49a7-b0fa-232b3898b35a",
   "metadata": {},
   "outputs": [],
   "source": [
    "ds_all=ds_all.sel(lat=slice(ymin,ymax))"
   ]
  },
  {
   "cell_type": "code",
   "execution_count": 9,
   "id": "e708c806-6001-4eba-a0e5-dee9ce3a348a",
   "metadata": {},
   "outputs": [],
   "source": [
    "#Opening the data in the variables\n",
    "#Nobs = ds_all.nobs\n",
    "#nobs_40km = ds_all.nobs_40km\n",
    "#SSS = ds_all.sss_smap.values\n",
    "#SST = ds_all.surtep.values\n",
    "sss_40km = ds_all.sss_smap_40km.values\n",
    "#sss_smap_uncertainty = ds_all.sss_smap_uncertainty\n",
    "\n",
    "\n",
    "\n",
    "\n",
    "#ds_all.SST[time,:,:,]            #To specify the data to plot from the file list, the two semi column is for lon and lat, and the time is the stepping number"
   ]
  },
  {
   "cell_type": "code",
   "execution_count": 10,
   "id": "9c780827-5a3f-4ddb-b588-8da1b6ec953b",
   "metadata": {},
   "outputs": [],
   "source": [
    "#Assigning a boolean value to scale\n",
    "scale = True"
   ]
  },
  {
   "cell_type": "code",
   "execution_count": 11,
   "id": "a8d6ced4-0c61-486c-ba46-9ce850027bb5",
   "metadata": {},
   "outputs": [],
   "source": [
    "def plot_variables(lon,lat,variable,ax,extent,title,levels,label,scale):\n",
    "    \n",
    "    \n",
    "    if scale is True:\n",
    "        scale_type = ticker.LogLocator()            #Setting the conditions for scale types\n",
    "    else:\n",
    "        scale_type = ticker.MaxNLocator()\n",
    "        \n",
    "    cs = ax.contourf(lon,lat,np.squeeze(variable), levels, extend='both', transform=ccrs.PlateCarree(), locator=scale_type)\n",
    "    ax.set_extent(extent, crs=ccrs.PlateCarree())\n",
    "    ax.add_feature(cartopy.feature.LAND, zorder=3, facecolor=[.4,.4,.3], edgecolor='black')\n",
    "    ax.add_feature(cartopy.feature.RIVERS, zorder=3, edgecolor=\"blue\")\n",
    "    ax.add_feature(cartopy.feature.BORDERS, zorder=3, edgecolor=[.0,.10,.1])\n",
    "    ax.add_feature(cartopy.feature.LAKES, zorder=3, edgecolor=\"blue\")\n",
    "    rd = plt.colorbar(cs,ax=ax, orientation='vertical', fraction = 0.04, extend='both')\n",
    "    rd.set_label('Salinity (' + label+\")\", fontsize = 12)\n",
    "    ax.set_title(title, fontsize = 10)\n",
    "    \n",
    "    plt.set_cmap(cmap=plt.get_cmap('turbo'))\n",
    "    gl = ax.gridlines(draw_labels=True, dms=True, x_inline=False, y_inline=False, alpha=0.5, linestyle='--')\n",
    "    gl.top_labels = False\n",
    "    gl.ylabels_right = False\n",
    "    \n",
    "    return cs,rd,ax # function creates 3 outputs"
   ]
  },
  {
   "cell_type": "code",
   "execution_count": 12,
   "id": "c98c8de2-f99c-45df-9ddc-76475dfef345",
   "metadata": {},
   "outputs": [
    {
     "name": "stderr",
     "output_type": "stream",
     "text": [
      "C:\\Users\\rolte\\AppData\\Local\\Temp/ipykernel_21192/3528676352.py:15: MatplotlibDeprecationWarning: The 'extend' parameter to Colorbar has no effect because it is overridden by the mappable; it is deprecated since 3.3 and will be removed two minor releases later.\n",
      "  rd = plt.colorbar(cs,ax=ax, orientation='vertical', fraction = 0.04, extend='both')\n",
      "C:\\Users\\rolte\\anaconda3\\lib\\site-packages\\cartopy\\mpl\\gridliner.py:343: UserWarning: The .ylabels_right attribute is deprecated. Please use .right_labels to toggle visibility instead.\n",
      "  warnings.warn('The .ylabels_right attribute is deprecated. Please '\n"
     ]
    },
    {
     "ename": "FileNotFoundError",
     "evalue": "[Errno 2] No such file or directory: '../SSS_PLOT/2017_SSS_0.png'",
     "output_type": "error",
     "traceback": [
      "\u001b[1;31m---------------------------------------------------------------------------\u001b[0m",
      "\u001b[1;31mFileNotFoundError\u001b[0m                         Traceback (most recent call last)",
      "\u001b[1;32m~\\AppData\\Local\\Temp/ipykernel_21192/3704921510.py\u001b[0m in \u001b[0;36m<module>\u001b[1;34m\u001b[0m\n\u001b[0;32m     17\u001b[0m     \u001b[1;31m#To save the subplot as individual image\u001b[0m\u001b[1;33m\u001b[0m\u001b[1;33m\u001b[0m\u001b[0m\n\u001b[0;32m     18\u001b[0m     \u001b[1;32mif\u001b[0m \u001b[0msavefig\u001b[0m\u001b[1;33m:\u001b[0m\u001b[1;33m\u001b[0m\u001b[1;33m\u001b[0m\u001b[0m\n\u001b[1;32m---> 19\u001b[1;33m         \u001b[0mplt\u001b[0m\u001b[1;33m.\u001b[0m\u001b[0msavefig\u001b[0m\u001b[1;33m(\u001b[0m\u001b[0m__figdir__\u001b[0m\u001b[1;33m+\u001b[0m\u001b[1;34m'2017_SSS_'\u001b[0m\u001b[1;33m+\u001b[0m\u001b[0mstr\u001b[0m\u001b[1;33m(\u001b[0m\u001b[0mt\u001b[0m\u001b[1;33m)\u001b[0m \u001b[1;33m+\u001b[0m\u001b[1;34m'.'\u001b[0m\u001b[1;33m+\u001b[0m\u001b[0mSSS_PLOT\u001b[0m\u001b[1;33m,\u001b[0m\u001b[1;33m**\u001b[0m\u001b[0msavefig_args\u001b[0m\u001b[1;33m)\u001b[0m\u001b[1;33m\u001b[0m\u001b[1;33m\u001b[0m\u001b[0m\n\u001b[0m\u001b[0;32m     20\u001b[0m \u001b[1;33m\u001b[0m\u001b[0m\n\u001b[0;32m     21\u001b[0m \u001b[1;33m\u001b[0m\u001b[0m\n",
      "\u001b[1;32m~\\anaconda3\\lib\\site-packages\\matplotlib\\pyplot.py\u001b[0m in \u001b[0;36msavefig\u001b[1;34m(*args, **kwargs)\u001b[0m\n\u001b[0;32m    964\u001b[0m \u001b[1;32mdef\u001b[0m \u001b[0msavefig\u001b[0m\u001b[1;33m(\u001b[0m\u001b[1;33m*\u001b[0m\u001b[0margs\u001b[0m\u001b[1;33m,\u001b[0m \u001b[1;33m**\u001b[0m\u001b[0mkwargs\u001b[0m\u001b[1;33m)\u001b[0m\u001b[1;33m:\u001b[0m\u001b[1;33m\u001b[0m\u001b[1;33m\u001b[0m\u001b[0m\n\u001b[0;32m    965\u001b[0m     \u001b[0mfig\u001b[0m \u001b[1;33m=\u001b[0m \u001b[0mgcf\u001b[0m\u001b[1;33m(\u001b[0m\u001b[1;33m)\u001b[0m\u001b[1;33m\u001b[0m\u001b[1;33m\u001b[0m\u001b[0m\n\u001b[1;32m--> 966\u001b[1;33m     \u001b[0mres\u001b[0m \u001b[1;33m=\u001b[0m \u001b[0mfig\u001b[0m\u001b[1;33m.\u001b[0m\u001b[0msavefig\u001b[0m\u001b[1;33m(\u001b[0m\u001b[1;33m*\u001b[0m\u001b[0margs\u001b[0m\u001b[1;33m,\u001b[0m \u001b[1;33m**\u001b[0m\u001b[0mkwargs\u001b[0m\u001b[1;33m)\u001b[0m\u001b[1;33m\u001b[0m\u001b[1;33m\u001b[0m\u001b[0m\n\u001b[0m\u001b[0;32m    967\u001b[0m     \u001b[0mfig\u001b[0m\u001b[1;33m.\u001b[0m\u001b[0mcanvas\u001b[0m\u001b[1;33m.\u001b[0m\u001b[0mdraw_idle\u001b[0m\u001b[1;33m(\u001b[0m\u001b[1;33m)\u001b[0m   \u001b[1;31m# need this if 'transparent=True' to reset colors\u001b[0m\u001b[1;33m\u001b[0m\u001b[1;33m\u001b[0m\u001b[0m\n\u001b[0;32m    968\u001b[0m     \u001b[1;32mreturn\u001b[0m \u001b[0mres\u001b[0m\u001b[1;33m\u001b[0m\u001b[1;33m\u001b[0m\u001b[0m\n",
      "\u001b[1;32m~\\anaconda3\\lib\\site-packages\\matplotlib\\figure.py\u001b[0m in \u001b[0;36msavefig\u001b[1;34m(self, fname, transparent, **kwargs)\u001b[0m\n\u001b[0;32m   3013\u001b[0m                 \u001b[0mpatch\u001b[0m\u001b[1;33m.\u001b[0m\u001b[0mset_edgecolor\u001b[0m\u001b[1;33m(\u001b[0m\u001b[1;34m'none'\u001b[0m\u001b[1;33m)\u001b[0m\u001b[1;33m\u001b[0m\u001b[1;33m\u001b[0m\u001b[0m\n\u001b[0;32m   3014\u001b[0m \u001b[1;33m\u001b[0m\u001b[0m\n\u001b[1;32m-> 3015\u001b[1;33m         \u001b[0mself\u001b[0m\u001b[1;33m.\u001b[0m\u001b[0mcanvas\u001b[0m\u001b[1;33m.\u001b[0m\u001b[0mprint_figure\u001b[0m\u001b[1;33m(\u001b[0m\u001b[0mfname\u001b[0m\u001b[1;33m,\u001b[0m \u001b[1;33m**\u001b[0m\u001b[0mkwargs\u001b[0m\u001b[1;33m)\u001b[0m\u001b[1;33m\u001b[0m\u001b[1;33m\u001b[0m\u001b[0m\n\u001b[0m\u001b[0;32m   3016\u001b[0m \u001b[1;33m\u001b[0m\u001b[0m\n\u001b[0;32m   3017\u001b[0m         \u001b[1;32mif\u001b[0m \u001b[0mtransparent\u001b[0m\u001b[1;33m:\u001b[0m\u001b[1;33m\u001b[0m\u001b[1;33m\u001b[0m\u001b[0m\n",
      "\u001b[1;32m~\\anaconda3\\lib\\site-packages\\matplotlib\\backends\\backend_qt5agg.py\u001b[0m in \u001b[0;36mprint_figure\u001b[1;34m(self, *args, **kwargs)\u001b[0m\n\u001b[0;32m     76\u001b[0m \u001b[1;33m\u001b[0m\u001b[0m\n\u001b[0;32m     77\u001b[0m     \u001b[1;32mdef\u001b[0m \u001b[0mprint_figure\u001b[0m\u001b[1;33m(\u001b[0m\u001b[0mself\u001b[0m\u001b[1;33m,\u001b[0m \u001b[1;33m*\u001b[0m\u001b[0margs\u001b[0m\u001b[1;33m,\u001b[0m \u001b[1;33m**\u001b[0m\u001b[0mkwargs\u001b[0m\u001b[1;33m)\u001b[0m\u001b[1;33m:\u001b[0m\u001b[1;33m\u001b[0m\u001b[1;33m\u001b[0m\u001b[0m\n\u001b[1;32m---> 78\u001b[1;33m         \u001b[0msuper\u001b[0m\u001b[1;33m(\u001b[0m\u001b[1;33m)\u001b[0m\u001b[1;33m.\u001b[0m\u001b[0mprint_figure\u001b[0m\u001b[1;33m(\u001b[0m\u001b[1;33m*\u001b[0m\u001b[0margs\u001b[0m\u001b[1;33m,\u001b[0m \u001b[1;33m**\u001b[0m\u001b[0mkwargs\u001b[0m\u001b[1;33m)\u001b[0m\u001b[1;33m\u001b[0m\u001b[1;33m\u001b[0m\u001b[0m\n\u001b[0m\u001b[0;32m     79\u001b[0m         \u001b[0mself\u001b[0m\u001b[1;33m.\u001b[0m\u001b[0mdraw\u001b[0m\u001b[1;33m(\u001b[0m\u001b[1;33m)\u001b[0m\u001b[1;33m\u001b[0m\u001b[1;33m\u001b[0m\u001b[0m\n\u001b[0;32m     80\u001b[0m \u001b[1;33m\u001b[0m\u001b[0m\n",
      "\u001b[1;32m~\\anaconda3\\lib\\site-packages\\matplotlib\\backend_bases.py\u001b[0m in \u001b[0;36mprint_figure\u001b[1;34m(self, filename, dpi, facecolor, edgecolor, orientation, format, bbox_inches, pad_inches, bbox_extra_artists, backend, **kwargs)\u001b[0m\n\u001b[0;32m   2253\u001b[0m                 \u001b[1;31m# force the figure dpi to 72), so we need to set it again here.\u001b[0m\u001b[1;33m\u001b[0m\u001b[1;33m\u001b[0m\u001b[0m\n\u001b[0;32m   2254\u001b[0m                 \u001b[1;32mwith\u001b[0m \u001b[0mcbook\u001b[0m\u001b[1;33m.\u001b[0m\u001b[0m_setattr_cm\u001b[0m\u001b[1;33m(\u001b[0m\u001b[0mself\u001b[0m\u001b[1;33m.\u001b[0m\u001b[0mfigure\u001b[0m\u001b[1;33m,\u001b[0m \u001b[0mdpi\u001b[0m\u001b[1;33m=\u001b[0m\u001b[0mdpi\u001b[0m\u001b[1;33m)\u001b[0m\u001b[1;33m:\u001b[0m\u001b[1;33m\u001b[0m\u001b[1;33m\u001b[0m\u001b[0m\n\u001b[1;32m-> 2255\u001b[1;33m                     result = print_method(\n\u001b[0m\u001b[0;32m   2256\u001b[0m                         \u001b[0mfilename\u001b[0m\u001b[1;33m,\u001b[0m\u001b[1;33m\u001b[0m\u001b[1;33m\u001b[0m\u001b[0m\n\u001b[0;32m   2257\u001b[0m                         \u001b[0mfacecolor\u001b[0m\u001b[1;33m=\u001b[0m\u001b[0mfacecolor\u001b[0m\u001b[1;33m,\u001b[0m\u001b[1;33m\u001b[0m\u001b[1;33m\u001b[0m\u001b[0m\n",
      "\u001b[1;32m~\\anaconda3\\lib\\site-packages\\matplotlib\\backend_bases.py\u001b[0m in \u001b[0;36mwrapper\u001b[1;34m(*args, **kwargs)\u001b[0m\n\u001b[0;32m   1667\u001b[0m             \u001b[0mkwargs\u001b[0m\u001b[1;33m.\u001b[0m\u001b[0mpop\u001b[0m\u001b[1;33m(\u001b[0m\u001b[0marg\u001b[0m\u001b[1;33m)\u001b[0m\u001b[1;33m\u001b[0m\u001b[1;33m\u001b[0m\u001b[0m\n\u001b[0;32m   1668\u001b[0m \u001b[1;33m\u001b[0m\u001b[0m\n\u001b[1;32m-> 1669\u001b[1;33m         \u001b[1;32mreturn\u001b[0m \u001b[0mfunc\u001b[0m\u001b[1;33m(\u001b[0m\u001b[1;33m*\u001b[0m\u001b[0margs\u001b[0m\u001b[1;33m,\u001b[0m \u001b[1;33m**\u001b[0m\u001b[0mkwargs\u001b[0m\u001b[1;33m)\u001b[0m\u001b[1;33m\u001b[0m\u001b[1;33m\u001b[0m\u001b[0m\n\u001b[0m\u001b[0;32m   1670\u001b[0m \u001b[1;33m\u001b[0m\u001b[0m\n\u001b[0;32m   1671\u001b[0m     \u001b[1;32mreturn\u001b[0m \u001b[0mwrapper\u001b[0m\u001b[1;33m\u001b[0m\u001b[1;33m\u001b[0m\u001b[0m\n",
      "\u001b[1;32m~\\anaconda3\\lib\\site-packages\\matplotlib\\backends\\backend_agg.py\u001b[0m in \u001b[0;36mprint_png\u001b[1;34m(self, filename_or_obj, metadata, pil_kwargs, *args)\u001b[0m\n\u001b[0;32m    507\u001b[0m         \"\"\"\n\u001b[0;32m    508\u001b[0m         \u001b[0mFigureCanvasAgg\u001b[0m\u001b[1;33m.\u001b[0m\u001b[0mdraw\u001b[0m\u001b[1;33m(\u001b[0m\u001b[0mself\u001b[0m\u001b[1;33m)\u001b[0m\u001b[1;33m\u001b[0m\u001b[1;33m\u001b[0m\u001b[0m\n\u001b[1;32m--> 509\u001b[1;33m         mpl.image.imsave(\n\u001b[0m\u001b[0;32m    510\u001b[0m             \u001b[0mfilename_or_obj\u001b[0m\u001b[1;33m,\u001b[0m \u001b[0mself\u001b[0m\u001b[1;33m.\u001b[0m\u001b[0mbuffer_rgba\u001b[0m\u001b[1;33m(\u001b[0m\u001b[1;33m)\u001b[0m\u001b[1;33m,\u001b[0m \u001b[0mformat\u001b[0m\u001b[1;33m=\u001b[0m\u001b[1;34m\"png\"\u001b[0m\u001b[1;33m,\u001b[0m \u001b[0morigin\u001b[0m\u001b[1;33m=\u001b[0m\u001b[1;34m\"upper\"\u001b[0m\u001b[1;33m,\u001b[0m\u001b[1;33m\u001b[0m\u001b[1;33m\u001b[0m\u001b[0m\n\u001b[0;32m    511\u001b[0m             dpi=self.figure.dpi, metadata=metadata, pil_kwargs=pil_kwargs)\n",
      "\u001b[1;32m~\\anaconda3\\lib\\site-packages\\matplotlib\\image.py\u001b[0m in \u001b[0;36mimsave\u001b[1;34m(fname, arr, vmin, vmax, cmap, format, origin, dpi, metadata, pil_kwargs)\u001b[0m\n\u001b[0;32m   1614\u001b[0m         \u001b[0mpil_kwargs\u001b[0m\u001b[1;33m.\u001b[0m\u001b[0msetdefault\u001b[0m\u001b[1;33m(\u001b[0m\u001b[1;34m\"format\"\u001b[0m\u001b[1;33m,\u001b[0m \u001b[0mformat\u001b[0m\u001b[1;33m)\u001b[0m\u001b[1;33m\u001b[0m\u001b[1;33m\u001b[0m\u001b[0m\n\u001b[0;32m   1615\u001b[0m         \u001b[0mpil_kwargs\u001b[0m\u001b[1;33m.\u001b[0m\u001b[0msetdefault\u001b[0m\u001b[1;33m(\u001b[0m\u001b[1;34m\"dpi\"\u001b[0m\u001b[1;33m,\u001b[0m \u001b[1;33m(\u001b[0m\u001b[0mdpi\u001b[0m\u001b[1;33m,\u001b[0m \u001b[0mdpi\u001b[0m\u001b[1;33m)\u001b[0m\u001b[1;33m)\u001b[0m\u001b[1;33m\u001b[0m\u001b[1;33m\u001b[0m\u001b[0m\n\u001b[1;32m-> 1616\u001b[1;33m         \u001b[0mimage\u001b[0m\u001b[1;33m.\u001b[0m\u001b[0msave\u001b[0m\u001b[1;33m(\u001b[0m\u001b[0mfname\u001b[0m\u001b[1;33m,\u001b[0m \u001b[1;33m**\u001b[0m\u001b[0mpil_kwargs\u001b[0m\u001b[1;33m)\u001b[0m\u001b[1;33m\u001b[0m\u001b[1;33m\u001b[0m\u001b[0m\n\u001b[0m\u001b[0;32m   1617\u001b[0m \u001b[1;33m\u001b[0m\u001b[0m\n\u001b[0;32m   1618\u001b[0m \u001b[1;33m\u001b[0m\u001b[0m\n",
      "\u001b[1;32m~\\anaconda3\\lib\\site-packages\\PIL\\Image.py\u001b[0m in \u001b[0;36msave\u001b[1;34m(self, fp, format, **params)\u001b[0m\n\u001b[0;32m   2235\u001b[0m                 \u001b[0mfp\u001b[0m \u001b[1;33m=\u001b[0m \u001b[0mbuiltins\u001b[0m\u001b[1;33m.\u001b[0m\u001b[0mopen\u001b[0m\u001b[1;33m(\u001b[0m\u001b[0mfilename\u001b[0m\u001b[1;33m,\u001b[0m \u001b[1;34m\"r+b\"\u001b[0m\u001b[1;33m)\u001b[0m\u001b[1;33m\u001b[0m\u001b[1;33m\u001b[0m\u001b[0m\n\u001b[0;32m   2236\u001b[0m             \u001b[1;32melse\u001b[0m\u001b[1;33m:\u001b[0m\u001b[1;33m\u001b[0m\u001b[1;33m\u001b[0m\u001b[0m\n\u001b[1;32m-> 2237\u001b[1;33m                 \u001b[0mfp\u001b[0m \u001b[1;33m=\u001b[0m \u001b[0mbuiltins\u001b[0m\u001b[1;33m.\u001b[0m\u001b[0mopen\u001b[0m\u001b[1;33m(\u001b[0m\u001b[0mfilename\u001b[0m\u001b[1;33m,\u001b[0m \u001b[1;34m\"w+b\"\u001b[0m\u001b[1;33m)\u001b[0m\u001b[1;33m\u001b[0m\u001b[1;33m\u001b[0m\u001b[0m\n\u001b[0m\u001b[0;32m   2238\u001b[0m \u001b[1;33m\u001b[0m\u001b[0m\n\u001b[0;32m   2239\u001b[0m         \u001b[1;32mtry\u001b[0m\u001b[1;33m:\u001b[0m\u001b[1;33m\u001b[0m\u001b[1;33m\u001b[0m\u001b[0m\n",
      "\u001b[1;31mFileNotFoundError\u001b[0m: [Errno 2] No such file or directory: '../SSS_PLOT/2017_SSS_0.png'"
     ]
    }
   ],
   "source": [
    "#Subplot line of codes for SSS_SMAP\n",
    "\n",
    "# Loop and plot 4 figures from all the lists\n",
    "for t in range(2):\n",
    "    plt.close('all')\n",
    "    \n",
    "    data_time = ds_all.time[t].values                             #Loading the time dataset\n",
    "    day_str = np.datetime_as_string(data_time,unit='m')           #\n",
    "    fig,ax = plt.subplots(1,1, subplot_kw = {'projection' : ccrs.PlateCarree(central_longitude=60)}, figsize = (10,12))\n",
    "\n",
    "    levels = np.arange(25,38,.2)\n",
    "    plot_variables(ds_all.lon,ds_all.lat,sss_40km[t,:,:],ax,extent, 'SMAP Sea Surface Salinity at Original 40km Resolution',levels, 'ppt',False)\n",
    "\n",
    "\n",
    "    ax.text(5,7,day_str[0:10], transform=ccrs.PlateCarree(),zorder=10, fontsize = 10)         #To add a timestamp to the plot\n",
    "\n",
    "    #To save the subplot as individual image\n",
    "    if savefig:                              \n",
    "        plt.savefig(__figdir__+'2017_SSS_'+str(t) +'.'+SSS_PLOT,**savefig_args)\n",
    "        \n",
    "        \n",
    "#To add text in the plot body line of codes\n",
    "#ax.text(x,y,'text')           while x and y is the dimension/position of the text in the plot"
   ]
  },
  {
   "cell_type": "code",
   "execution_count": null,
   "id": "09c01a71-d064-45e6-b9d7-4b0d5aeaaf09",
   "metadata": {},
   "outputs": [],
   "source": []
  }
 ],
 "metadata": {
  "kernelspec": {
   "display_name": "Python 3 (ipykernel)",
   "language": "python",
   "name": "python3"
  },
  "language_info": {
   "codemirror_mode": {
    "name": "ipython",
    "version": 3
   },
   "file_extension": ".py",
   "mimetype": "text/x-python",
   "name": "python",
   "nbconvert_exporter": "python",
   "pygments_lexer": "ipython3",
   "version": "3.9.7"
  }
 },
 "nbformat": 4,
 "nbformat_minor": 5
}
