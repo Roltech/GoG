{
 "cells": [
  {
   "cell_type": "markdown",
   "id": "72cc1ede-74b6-4dfe-8542-473db0d349ea",
   "metadata": {},
   "source": [
    "My New Task"
   ]
  },
  {
   "cell_type": "code",
   "execution_count": 2,
   "id": "b5464992-a078-4de8-abbc-c866c293558b",
   "metadata": {},
   "outputs": [],
   "source": [
    "jk = 0"
   ]
  },
  {
   "cell_type": "code",
   "execution_count": null,
   "id": "47b7edc0-c2d0-413d-9810-aaa4add38b72",
   "metadata": {},
   "outputs": [],
   "source": []
  }
 ],
 "metadata": {
  "kernelspec": {
   "display_name": "Python 3 (ipykernel)",
   "language": "python",
   "name": "python3"
  },
  "language_info": {
   "codemirror_mode": {
    "name": "ipython",
    "version": 3
   },
   "file_extension": ".py",
   "mimetype": "text/x-python",
   "name": "python",
   "nbconvert_exporter": "python",
   "pygments_lexer": "ipython3",
   "version": "3.9.7"
  }
 },
 "nbformat": 4,
 "nbformat_minor": 5
}
