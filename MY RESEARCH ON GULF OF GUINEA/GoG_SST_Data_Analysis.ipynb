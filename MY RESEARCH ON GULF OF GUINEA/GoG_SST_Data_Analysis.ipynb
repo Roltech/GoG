{
 "cells": [
  {
   "cell_type": "markdown",
   "id": "72cc1ede-74b6-4dfe-8542-473db0d349ea",
   "metadata": {},
   "source": [
    "My New Task"
   ]
  },
  {
   "cell_type": "code",
   "execution_count": null,
   "id": "b5464992-a078-4de8-abbc-c866c293558b",
   "metadata": {},
   "outputs": [],
   "source": []
  }
 ],
 "metadata": {
  "kernelspec": {
   "display_name": "Python 3 (ipykernel)",
   "language": "python",
   "name": "python3"
  },
  "language_info": {
   "codemirror_mode": {
    "name": "ipython",
    "version": 3
   },
   "file_extension": ".py",
   "mimetype": "text/x-python",
   "name": "python",
   "nbconvert_exporter": "python",
   "pygments_lexer": "ipython3",
   "version": "3.9.7"
  }
 },
 "nbformat": 4,
 "nbformat_minor": 5
}
