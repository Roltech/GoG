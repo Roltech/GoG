{
 "cells": [
  {
   "cell_type": "markdown",
   "id": "d81220e4-17cb-41a4-9285-02dc93d50b3b",
   "metadata": {},
   "source": [
    "# Find clear scenes in high-resolution SST (local computer)\n",
    "\n",
    "### What I want to do with this notebook is to choose a target region and time period, cycle through a bunch of high-resolution sea surface temperature data in the PO.DAAC cloud, identify clear images, catalog them\n",
    "\n",
    "@jtomfarrar\n",
    "\n",
    "This was modified from this notebook:\n",
    "https://github.com/NASA-Openscapes/nch2021-projects-contexdata/blob/main/notebooks/find_VIIRS_SST.ipynb\n",
    "\n",
    "The major change I want to make is to run the notebook locally on my computer, rather than on the Amazon Cloud.\n",
    "\n",
    "- We will use L3 VIIRS SST here, PO.DAAC short name \"VIIRS_NPP-OSPO-L3U-v2.61\"\n",
    "\n",
    "\n",
    "Issues/to-do:\n",
    "\n",
    "1. Processing a year of data consumes all the memory on a small cloud instance (when xr.open_mfdataset() is called)\n",
    "1. It seems like I am hitting a limit of the number of granules that can be returned by using requests.get to query 'https://cmr.earthdata.nasa.gov/search/granules'\n",
    "1. It would be nice to print/save a list of clear dates\n",
    "\n",
    "## Summary of what I learned \n",
    "\n",
    "1. Cloud computing is just using someone else’s computer.\n",
    "1. The place where there is an advantage to be had is when you can do cloud computing next to a huge amount of data\n",
    "1. If you must work locally, or on a different cloud than where the data are, data sets in the cloud are functionally just data sets on the web\n",
    "1. We can query the NASA Common Metadata Repository to find out the names and “concept ID” of datasets (url = 'https://cmr.earthdata.nasa.gov/search/collections.umm_json'); see example below in this notebook\n",
    "1. To download data (to cloud or local machine), you need a _netrc file (on windows) or .netrc file (on linux) to pass NASA EarthData credentials and get S3 access;—see Tutorial 4, https://github.com/NASA-Openscapes/2021-Cloud-Hackathon/blob/main/tutorials/04_NASA_Earthdata_Authentication.ipynb ; this is needed in “def begin_s3_direct_access()” below; for direct download, it would also be needed\n",
    "1. We were working in the Amazon Cloud using the “2i2c Hub Service”:\n",
    "https://openscapes.2i2c.cloud/hub/login?next=%2Fhub%2F\n"
   ]
  },
  {
   "cell_type": "code",
   "execution_count": 1,
   "id": "becoming-receptor",
   "metadata": {},
   "outputs": [],
   "source": [
    "#Pretty sure some of these are extraneous\n",
    "import s3fs\n",
    "import os\n",
    "import os.path\n",
    "import json\n",
    "import warnings\n",
    "import requests\n",
    "import numpy as np\n",
    "import pandas as pd\n",
    "import xarray as xr\n",
    "from io import StringIO\n",
    "\n",
    "import matplotlib.pyplot as plt\n",
    "import matplotlib\n",
    "from matplotlib.ticker import FormatStrFormatter\n",
    "from matplotlib import ticker, rc, cm\n",
    "\n",
    "import cartopy.crs as ccrs\n",
    "import cartopy.feature as cfeature\n",
    "import cartopy\n",
    "\n",
    "# import geoviews as gv\n",
    "# import hvplot.xarray\n",
    "# import holoviews as hv\n",
    "# gv.extension('bokeh', 'matplotlib')\n",
    "\n",
    "warnings.filterwarnings(\"ignore\")\n",
    "\n",
    "%matplotlib inline\n",
    "# %matplotlib qt5"
   ]
  },
  {
   "cell_type": "markdown",
   "id": "ce0eaa2f-7aa1-45ab-9410-a4463cf2819b",
   "metadata": {},
   "source": [
    "## Set some parameters (start/end time)\n"
   ]
  },
  {
   "cell_type": "code",
   "execution_count": 2,
   "id": "edd07a7e-ec5b-4a05-8215-485b46c9bd7b",
   "metadata": {},
   "outputs": [],
   "source": [
    "plt.rcParams['figure.figsize'] = (5,4)\n",
    "plt.rcParams['figure.dpi'] = 300\n",
    "plt.rcParams['savefig.dpi'] = 700"
   ]
  },
  {
   "cell_type": "markdown",
   "id": "a491e721-77e5-434b-b570-ff957ee4fb77",
   "metadata": {},
   "source": [
    "## PO DAAC Catalog exploration using the CMR API\n",
    "\n",
    "- The search is restricted to colections that have data over a given time window"
   ]
  },
  {
   "cell_type": "code",
   "execution_count": 3,
   "id": "829d8272-6d5b-4dbd-9780-7c0877a5c8f1",
   "metadata": {},
   "outputs": [
    {
     "data": {
      "text/plain": [
       "'145'"
      ]
     },
     "execution_count": 3,
     "metadata": {},
     "output_type": "execute_result"
    }
   ],
   "source": [
    "provider = 'POCLOUD'\n",
    "url = 'https://cmr.earthdata.nasa.gov/search/collections.umm_json'\n",
    "response = requests.get(url,\n",
    "                        params={\n",
    "                            'cloud_hosted': 'True',\n",
    "                            'has_granules': 'True',\n",
    "                            'provider': provider,\n",
    "                            'page_size': 500,\n",
    "                            'temporal': ['2021-10-01T10:00:00Z','2021-11-01T00:00:00Z'] \n",
    "                        },\n",
    "                        headers={\n",
    "                            'Accept': 'application/json'\n",
    "                        }\n",
    "                       )\n",
    "response.headers['cmr-hits']"
   ]
  },
  {
   "cell_type": "markdown",
   "id": "0ecdaeef-6cad-4917-a76e-1472c05e9bf0",
   "metadata": {},
   "source": [
    "### Loop through each response in the catalog and print the respective concept ID\n",
    "\n",
    "These are the data sets that cover the time period of interest"
   ]
  },
  {
   "cell_type": "code",
   "execution_count": 4,
   "id": "e9d49119-45f9-4f3c-868e-91216858f54d",
   "metadata": {},
   "outputs": [],
   "source": [
    "#  If set to \"True\", this will show short names and concept ids for all PO.DAAC data sets at this time\n",
    "if False:\n",
    "    for r in response.json()['items']:\n",
    "        print('{} ==> '.format(r['meta']['s3-links'][0].split('/')[1]), r['meta']['concept-id'])"
   ]
  },
  {
   "cell_type": "markdown",
   "id": "786d684a-72a9-487f-b2f5-ccdbe62d217d",
   "metadata": {},
   "source": [
    "### Loading credentials for direct access\n",
    "\n",
    "This seems to only work from a cloud machine.  Is there a substitute for access from my local machine?"
   ]
  },
  {
   "cell_type": "code",
   "execution_count": 5,
   "id": "ce790929-ed28-484e-9806-90952f5177a3",
   "metadata": {},
   "outputs": [
    {
     "ename": "JSONDecodeError",
     "evalue": "Expecting value: line 1 column 1 (char 0)",
     "output_type": "error",
     "traceback": [
      "\u001b[1;31m---------------------------------------------------------------------------\u001b[0m",
      "\u001b[1;31mJSONDecodeError\u001b[0m                           Traceback (most recent call last)",
      "\u001b[1;32m<ipython-input-13-27f8396a3729>\u001b[0m in \u001b[0;36m<module>\u001b[1;34m\u001b[0m\n\u001b[0;32m      5\u001b[0m                              token=response['sessionToken'])\n\u001b[0;32m      6\u001b[0m \u001b[1;33m\u001b[0m\u001b[0m\n\u001b[1;32m----> 7\u001b[1;33m \u001b[0mfs\u001b[0m \u001b[1;33m=\u001b[0m \u001b[0mbegin_s3_direct_access\u001b[0m\u001b[1;33m(\u001b[0m\u001b[1;33m)\u001b[0m\u001b[1;33m\u001b[0m\u001b[1;33m\u001b[0m\u001b[0m\n\u001b[0m\u001b[0;32m      8\u001b[0m \u001b[1;33m\u001b[0m\u001b[0m\n\u001b[0;32m      9\u001b[0m \u001b[0mtype\u001b[0m\u001b[1;33m(\u001b[0m\u001b[0mfs\u001b[0m\u001b[1;33m)\u001b[0m\u001b[1;33m\u001b[0m\u001b[1;33m\u001b[0m\u001b[0m\n",
      "\u001b[1;32m<ipython-input-13-27f8396a3729>\u001b[0m in \u001b[0;36mbegin_s3_direct_access\u001b[1;34m(url)\u001b[0m\n\u001b[0;32m      1\u001b[0m \u001b[1;32mdef\u001b[0m \u001b[0mbegin_s3_direct_access\u001b[0m\u001b[1;33m(\u001b[0m\u001b[0murl\u001b[0m\u001b[1;33m:\u001b[0m \u001b[0mstr\u001b[0m\u001b[1;33m=\u001b[0m\u001b[1;34m\"https://archive.podaac.earthdata.nasa.gov/s3credentials\"\u001b[0m\u001b[1;33m)\u001b[0m\u001b[1;33m:\u001b[0m\u001b[1;33m\u001b[0m\u001b[1;33m\u001b[0m\u001b[0m\n\u001b[1;32m----> 2\u001b[1;33m     \u001b[0mresponse\u001b[0m \u001b[1;33m=\u001b[0m \u001b[0mrequests\u001b[0m\u001b[1;33m.\u001b[0m\u001b[0mget\u001b[0m\u001b[1;33m(\u001b[0m\u001b[0murl\u001b[0m\u001b[1;33m)\u001b[0m\u001b[1;33m.\u001b[0m\u001b[0mjson\u001b[0m\u001b[1;33m(\u001b[0m\u001b[1;33m)\u001b[0m\u001b[1;33m\u001b[0m\u001b[1;33m\u001b[0m\u001b[0m\n\u001b[0m\u001b[0;32m      3\u001b[0m     return s3fs.S3FileSystem(key=response['accessKeyId'],\n\u001b[0;32m      4\u001b[0m                              \u001b[0msecret\u001b[0m\u001b[1;33m=\u001b[0m\u001b[0mresponse\u001b[0m\u001b[1;33m[\u001b[0m\u001b[1;34m'secretAccessKey'\u001b[0m\u001b[1;33m]\u001b[0m\u001b[1;33m,\u001b[0m\u001b[1;33m\u001b[0m\u001b[1;33m\u001b[0m\u001b[0m\n\u001b[0;32m      5\u001b[0m                              token=response['sessionToken'])\n",
      "\u001b[1;32m~\\anaconda3\\envs\\base2\\lib\\site-packages\\requests\\models.py\u001b[0m in \u001b[0;36mjson\u001b[1;34m(self, **kwargs)\u001b[0m\n\u001b[0;32m    898\u001b[0m                     \u001b[1;31m# used.\u001b[0m\u001b[1;33m\u001b[0m\u001b[1;33m\u001b[0m\u001b[1;33m\u001b[0m\u001b[0m\n\u001b[0;32m    899\u001b[0m                     \u001b[1;32mpass\u001b[0m\u001b[1;33m\u001b[0m\u001b[1;33m\u001b[0m\u001b[0m\n\u001b[1;32m--> 900\u001b[1;33m         \u001b[1;32mreturn\u001b[0m \u001b[0mcomplexjson\u001b[0m\u001b[1;33m.\u001b[0m\u001b[0mloads\u001b[0m\u001b[1;33m(\u001b[0m\u001b[0mself\u001b[0m\u001b[1;33m.\u001b[0m\u001b[0mtext\u001b[0m\u001b[1;33m,\u001b[0m \u001b[1;33m**\u001b[0m\u001b[0mkwargs\u001b[0m\u001b[1;33m)\u001b[0m\u001b[1;33m\u001b[0m\u001b[1;33m\u001b[0m\u001b[0m\n\u001b[0m\u001b[0;32m    901\u001b[0m \u001b[1;33m\u001b[0m\u001b[0m\n\u001b[0;32m    902\u001b[0m     \u001b[1;33m@\u001b[0m\u001b[0mproperty\u001b[0m\u001b[1;33m\u001b[0m\u001b[1;33m\u001b[0m\u001b[0m\n",
      "\u001b[1;32m~\\anaconda3\\envs\\base2\\lib\\json\\__init__.py\u001b[0m in \u001b[0;36mloads\u001b[1;34m(s, cls, object_hook, parse_float, parse_int, parse_constant, object_pairs_hook, **kw)\u001b[0m\n\u001b[0;32m    355\u001b[0m             \u001b[0mparse_int\u001b[0m \u001b[1;32mis\u001b[0m \u001b[1;32mNone\u001b[0m \u001b[1;32mand\u001b[0m \u001b[0mparse_float\u001b[0m \u001b[1;32mis\u001b[0m \u001b[1;32mNone\u001b[0m \u001b[1;32mand\u001b[0m\u001b[1;33m\u001b[0m\u001b[1;33m\u001b[0m\u001b[0m\n\u001b[0;32m    356\u001b[0m             parse_constant is None and object_pairs_hook is None and not kw):\n\u001b[1;32m--> 357\u001b[1;33m         \u001b[1;32mreturn\u001b[0m \u001b[0m_default_decoder\u001b[0m\u001b[1;33m.\u001b[0m\u001b[0mdecode\u001b[0m\u001b[1;33m(\u001b[0m\u001b[0ms\u001b[0m\u001b[1;33m)\u001b[0m\u001b[1;33m\u001b[0m\u001b[1;33m\u001b[0m\u001b[0m\n\u001b[0m\u001b[0;32m    358\u001b[0m     \u001b[1;32mif\u001b[0m \u001b[0mcls\u001b[0m \u001b[1;32mis\u001b[0m \u001b[1;32mNone\u001b[0m\u001b[1;33m:\u001b[0m\u001b[1;33m\u001b[0m\u001b[1;33m\u001b[0m\u001b[0m\n\u001b[0;32m    359\u001b[0m         \u001b[0mcls\u001b[0m \u001b[1;33m=\u001b[0m \u001b[0mJSONDecoder\u001b[0m\u001b[1;33m\u001b[0m\u001b[1;33m\u001b[0m\u001b[0m\n",
      "\u001b[1;32m~\\anaconda3\\envs\\base2\\lib\\json\\decoder.py\u001b[0m in \u001b[0;36mdecode\u001b[1;34m(self, s, _w)\u001b[0m\n\u001b[0;32m    335\u001b[0m \u001b[1;33m\u001b[0m\u001b[0m\n\u001b[0;32m    336\u001b[0m         \"\"\"\n\u001b[1;32m--> 337\u001b[1;33m         \u001b[0mobj\u001b[0m\u001b[1;33m,\u001b[0m \u001b[0mend\u001b[0m \u001b[1;33m=\u001b[0m \u001b[0mself\u001b[0m\u001b[1;33m.\u001b[0m\u001b[0mraw_decode\u001b[0m\u001b[1;33m(\u001b[0m\u001b[0ms\u001b[0m\u001b[1;33m,\u001b[0m \u001b[0midx\u001b[0m\u001b[1;33m=\u001b[0m\u001b[0m_w\u001b[0m\u001b[1;33m(\u001b[0m\u001b[0ms\u001b[0m\u001b[1;33m,\u001b[0m \u001b[1;36m0\u001b[0m\u001b[1;33m)\u001b[0m\u001b[1;33m.\u001b[0m\u001b[0mend\u001b[0m\u001b[1;33m(\u001b[0m\u001b[1;33m)\u001b[0m\u001b[1;33m)\u001b[0m\u001b[1;33m\u001b[0m\u001b[1;33m\u001b[0m\u001b[0m\n\u001b[0m\u001b[0;32m    338\u001b[0m         \u001b[0mend\u001b[0m \u001b[1;33m=\u001b[0m \u001b[0m_w\u001b[0m\u001b[1;33m(\u001b[0m\u001b[0ms\u001b[0m\u001b[1;33m,\u001b[0m \u001b[0mend\u001b[0m\u001b[1;33m)\u001b[0m\u001b[1;33m.\u001b[0m\u001b[0mend\u001b[0m\u001b[1;33m(\u001b[0m\u001b[1;33m)\u001b[0m\u001b[1;33m\u001b[0m\u001b[1;33m\u001b[0m\u001b[0m\n\u001b[0;32m    339\u001b[0m         \u001b[1;32mif\u001b[0m \u001b[0mend\u001b[0m \u001b[1;33m!=\u001b[0m \u001b[0mlen\u001b[0m\u001b[1;33m(\u001b[0m\u001b[0ms\u001b[0m\u001b[1;33m)\u001b[0m\u001b[1;33m:\u001b[0m\u001b[1;33m\u001b[0m\u001b[1;33m\u001b[0m\u001b[0m\n",
      "\u001b[1;32m~\\anaconda3\\envs\\base2\\lib\\json\\decoder.py\u001b[0m in \u001b[0;36mraw_decode\u001b[1;34m(self, s, idx)\u001b[0m\n\u001b[0;32m    353\u001b[0m             \u001b[0mobj\u001b[0m\u001b[1;33m,\u001b[0m \u001b[0mend\u001b[0m \u001b[1;33m=\u001b[0m \u001b[0mself\u001b[0m\u001b[1;33m.\u001b[0m\u001b[0mscan_once\u001b[0m\u001b[1;33m(\u001b[0m\u001b[0ms\u001b[0m\u001b[1;33m,\u001b[0m \u001b[0midx\u001b[0m\u001b[1;33m)\u001b[0m\u001b[1;33m\u001b[0m\u001b[1;33m\u001b[0m\u001b[0m\n\u001b[0;32m    354\u001b[0m         \u001b[1;32mexcept\u001b[0m \u001b[0mStopIteration\u001b[0m \u001b[1;32mas\u001b[0m \u001b[0merr\u001b[0m\u001b[1;33m:\u001b[0m\u001b[1;33m\u001b[0m\u001b[1;33m\u001b[0m\u001b[0m\n\u001b[1;32m--> 355\u001b[1;33m             \u001b[1;32mraise\u001b[0m \u001b[0mJSONDecodeError\u001b[0m\u001b[1;33m(\u001b[0m\u001b[1;34m\"Expecting value\"\u001b[0m\u001b[1;33m,\u001b[0m \u001b[0ms\u001b[0m\u001b[1;33m,\u001b[0m \u001b[0merr\u001b[0m\u001b[1;33m.\u001b[0m\u001b[0mvalue\u001b[0m\u001b[1;33m)\u001b[0m \u001b[1;32mfrom\u001b[0m \u001b[1;32mNone\u001b[0m\u001b[1;33m\u001b[0m\u001b[1;33m\u001b[0m\u001b[0m\n\u001b[0m\u001b[0;32m    356\u001b[0m         \u001b[1;32mreturn\u001b[0m \u001b[0mobj\u001b[0m\u001b[1;33m,\u001b[0m \u001b[0mend\u001b[0m\u001b[1;33m\u001b[0m\u001b[1;33m\u001b[0m\u001b[0m\n",
      "\u001b[1;31mJSONDecodeError\u001b[0m: Expecting value: line 1 column 1 (char 0)"
     ]
    }
   ],
   "source": [
    "def begin_s3_direct_access(url: str=\"https://archive.podaac.earthdata.nasa.gov/s3credentials\"):\n",
    "    response = requests.get(url).json()\n",
    "    return s3fs.S3FileSystem(key=response['accessKeyId'],\n",
    "                             secret=response['secretAccessKey'],\n",
    "                             token=response['sessionToken'],\n",
    "                             client_kwargs={'region_name':'us-west-2'})\n",
    "\n",
    "fs = begin_s3_direct_access()\n",
    "\n",
    "type(fs)"
   ]
  },
  {
   "cell_type": "markdown",
   "id": "cd6bda80-ffeb-433a-920a-b618619a90ed",
   "metadata": {},
   "source": [
    "For local access, let's try \"PO.DAAC data subscriber\":\n",
    "https://github.com/podaac/data-subscriber"
   ]
  },
  {
   "cell_type": "code",
   "execution_count": 5,
   "id": "7fc888ac-4f92-432b-8997-748b20d47602",
   "metadata": {},
   "outputs": [
    {
     "ename": "SyntaxError",
     "evalue": "invalid syntax (<ipython-input-5-dff4f2cefbc4>, line 1)",
     "output_type": "error",
     "traceback": [
      "\u001b[1;36m  File \u001b[1;32m\"<ipython-input-5-dff4f2cefbc4>\"\u001b[1;36m, line \u001b[1;32m1\u001b[0m\n\u001b[1;33m    podaac-data-subscriber -c CYGNSS_L1_CDR_V1.0 -d myData\u001b[0m\n\u001b[1;37m                              ^\u001b[0m\n\u001b[1;31mSyntaxError\u001b[0m\u001b[1;31m:\u001b[0m invalid syntax\n"
     ]
    }
   ],
   "source": [
    "podaac-data-subscriber -c CYGNSS_L1_CDR_V1.0 -d myData"
   ]
  },
  {
   "cell_type": "code",
   "execution_count": 6,
   "id": "4988c841-cdc3-4700-b99f-e450e3108b59",
   "metadata": {},
   "outputs": [],
   "source": [
    "# Center location\n",
    "site = 'S-MODE'\n",
    "\n",
    "if site == 'S-MODE':\n",
    "    lon0 = -123.5\n",
    "    lat0 = 37.5 \n",
    "    dlon = 2.5 # half of box width in lon\n",
    "    dlat = 1.5 # half of box width in lat\n",
    "elif site == 'SPURS-2':\n",
    "    lon0 = -125\n",
    "    lat0 = 10\n",
    "    dlon = 1.5 # half of box width in lon\n",
    "    dlat = 1.5 # half of box width in lat\n",
    "elif site == 'SPURS-2':\n",
    "    lon0 = -38\n",
    "    lat0 = 25\n",
    "    dlon = 1.5 # half of box width in lon\n",
    "    dlat = 1.5 # half of box width in lat\n",
    "\n",
    "# Define the max/min lon\n",
    "lon_min = lon0 - dlon\n",
    "lon_max = lon0 + dlon\n",
    "lat_min = lat0 - dlat\n",
    "lat_max = lat0 + dlat"
   ]
  },
  {
   "cell_type": "code",
   "execution_count": 7,
   "id": "54c3850c-793a-48dc-9237-9edb6c43d16c",
   "metadata": {},
   "outputs": [],
   "source": [
    "if site == 'S-MODE':\n",
    "    start_time = '2021-10-20T00:00:00Z'\n",
    "    end_time = '2021-11-6T00:00:00Z'\n",
    "elif site == 'SPURS-2':\n",
    "    start_time = '2016-8-20T00:00:00Z'\n",
    "    end_time = '2017-11-6T00:00:00Z'\n",
    "elif site == 'SPURS-2':\n",
    "    start_time = '2012-9-15T00:00:00Z'\n",
    "    end_time = '2013-11-15T00:00:00Z'\n",
    "\n"
   ]
  },
  {
   "cell_type": "code",
   "execution_count": 8,
   "id": "d7d8468f-4e59-4082-a5ac-b531352cc384",
   "metadata": {},
   "outputs": [
    {
     "name": "stdout",
     "output_type": "stream",
     "text": [
      "<Response [200]>\n",
      "94\n"
     ]
    }
   ],
   "source": [
    "url = 'https://cmr.earthdata.nasa.gov/search/granules'\n",
    "\n",
    "# VIIRS_NPP-OSPO-L2P-v2.61 ==>  C1996880725-POCLOUD\n",
    "concept_id = 'C2036880650-POCLOUD' #  MODIS\n",
    "# concept_id = 'C1996880725-POCLOUD' # VIIRS_NPP-OSPO-L2P-v2.61 \n",
    "concept_id = 'C2036877595-POCLOUD' # VIIRS_NPP-OSPO-L3U-v2.61 \n",
    "response = requests.get(url, \n",
    "                        params={\n",
    "                            'concept_id': concept_id,\n",
    "                            'temporal': start_time+','+end_time,\n",
    "                            'bounding_box': '{},{},{},{}'.format(lon_min, lat_min, lon_max, lat_max),    \n",
    "                            'page_size': 500,\n",
    "                            },\n",
    "                        headers={\n",
    "                            'Accept': 'application/json'\n",
    "                            }\n",
    "                       )\n",
    "print(response)\n",
    "print(response.headers['CMR-Hits'])"
   ]
  },
  {
   "cell_type": "code",
   "execution_count": 9,
   "id": "69d38858-442d-4ba1-a11d-9632e12b6de0",
   "metadata": {},
   "outputs": [
    {
     "data": {
      "text/plain": [
       "94"
      ]
     },
     "execution_count": 9,
     "metadata": {},
     "output_type": "execute_result"
    }
   ],
   "source": [
    "granules_url = []\n",
    "for gran in response.json()['feed']['entry']:\n",
    "    granules_url.append(gran['links'][0]['href'])\n",
    "# granules_url\n",
    "len(granules_url)"
   ]
  },
  {
   "cell_type": "code",
   "execution_count": 10,
   "id": "7205bb16-4ac3-4ad0-bcb7-2ab93166de82",
   "metadata": {},
   "outputs": [
    {
     "data": {
      "text/plain": [
       "{'boxes': ['7.88 -150.44 46.61 -108.77'],\n",
       " 'time_start': '2021-11-05T21:30:00.000Z',\n",
       " 'updated': '2021-11-05T22:21:13.722Z',\n",
       " 'dataset_id': 'GHRSST Level 3U OSPO dataset v2.61 from VIIRS on S-NPP Satellite (GDS v2)',\n",
       " 'data_center': 'POCLOUD',\n",
       " 'title': '20211105213000-OSPO-L3U_GHRSST-SSTsubskin-VIIRS_NPP-ACSPO_V2.61-v02.0-fv01.0',\n",
       " 'coordinate_system': 'CARTESIAN',\n",
       " 'day_night_flag': 'UNSPECIFIED',\n",
       " 'time_end': '2021-11-05T21:39:59.000Z',\n",
       " 'id': 'G2159445200-POCLOUD',\n",
       " 'original_format': 'UMM_JSON',\n",
       " 'granule_size': '4.286630630493164',\n",
       " 'browse_flag': False,\n",
       " 'collection_concept_id': 'C2036877595-POCLOUD',\n",
       " 'online_access_flag': True,\n",
       " 'links': [{'rel': 'http://esipfed.org/ns/fedsearch/1.1/s3#',\n",
       "   'title': 'This link provides direct download access via S3 to the granule.',\n",
       "   'hreflang': 'en-US',\n",
       "   'href': 's3://podaac-ops-cumulus-protected/VIIRS_NPP-OSPO-L3U-v2.61/20211105213000-OSPO-L3U_GHRSST-SSTsubskin-VIIRS_NPP-ACSPO_V2.61-v02.0-fv01.0.nc'},\n",
       "  {'rel': 'http://esipfed.org/ns/fedsearch/1.1/data#',\n",
       "   'title': 'Download 20211105213000-OSPO-L3U_GHRSST-SSTsubskin-VIIRS_NPP-ACSPO_V2.61-v02.0-fv01.0.nc',\n",
       "   'hreflang': 'en-US',\n",
       "   'href': 'https://archive.podaac.earthdata.nasa.gov/podaac-ops-cumulus-protected/VIIRS_NPP-OSPO-L3U-v2.61/20211105213000-OSPO-L3U_GHRSST-SSTsubskin-VIIRS_NPP-ACSPO_V2.61-v02.0-fv01.0.nc'},\n",
       "  {'rel': 'http://esipfed.org/ns/fedsearch/1.1/metadata#',\n",
       "   'title': 'Download 20211105213000-OSPO-L3U_GHRSST-SSTsubskin-VIIRS_NPP-ACSPO_V2.61-v02.0-fv01.0.nc.md5',\n",
       "   'hreflang': 'en-US',\n",
       "   'href': 'https://archive.podaac.earthdata.nasa.gov/podaac-ops-cumulus-public/VIIRS_NPP-OSPO-L3U-v2.61/20211105213000-OSPO-L3U_GHRSST-SSTsubskin-VIIRS_NPP-ACSPO_V2.61-v02.0-fv01.0.nc.md5'},\n",
       "  {'rel': 'http://esipfed.org/ns/fedsearch/1.1/metadata#',\n",
       "   'title': 'This link provides direct download access via S3 to the granule',\n",
       "   'hreflang': 'en-US',\n",
       "   'href': 's3://podaac-ops-cumulus-public/VIIRS_NPP-OSPO-L3U-v2.61/20211105213000-OSPO-L3U_GHRSST-SSTsubskin-VIIRS_NPP-ACSPO_V2.61-v02.0-fv01.0.nc.md5'},\n",
       "  {'rel': 'http://esipfed.org/ns/fedsearch/1.1/metadata#',\n",
       "   'title': 'api endpoint to retrieve temporary credentials valid for same-region direct s3 access',\n",
       "   'hreflang': 'en-US',\n",
       "   'href': 'https://archive.podaac.earthdata.nasa.gov/s3credentials'},\n",
       "  {'rel': 'http://esipfed.org/ns/fedsearch/1.1/service#',\n",
       "   'title': 'OPeNDAP request URL',\n",
       "   'hreflang': 'en-US',\n",
       "   'href': 'https://opendap.earthdata.nasa.gov/collections/C2036877595-POCLOUD/granules/20211105213000-OSPO-L3U_GHRSST-SSTsubskin-VIIRS_NPP-ACSPO_V2.61-v02.0-fv01.0'},\n",
       "  {'inherited': True,\n",
       "   'rel': 'http://esipfed.org/ns/fedsearch/1.1/documentation#',\n",
       "   'hreflang': 'en-US',\n",
       "   'href': 'https://podaac.jpl.nasa.gov/forum/viewtopic.php?f=7&t=298'},\n",
       "  {'inherited': True,\n",
       "   'rel': 'http://esipfed.org/ns/fedsearch/1.1/documentation#',\n",
       "   'hreflang': 'en-US',\n",
       "   'href': 'https://podaac-tools.jpl.nasa.gov/drive/files/OceanTemperature/ghrsst/docs/GDS20r5.pdf'},\n",
       "  {'inherited': True,\n",
       "   'rel': 'http://esipfed.org/ns/fedsearch/1.1/documentation#',\n",
       "   'hreflang': 'en-US',\n",
       "   'href': 'https://github.com/podaac/data-readers'},\n",
       "  {'inherited': True,\n",
       "   'rel': 'http://esipfed.org/ns/fedsearch/1.1/documentation#',\n",
       "   'hreflang': 'en-US',\n",
       "   'href': 'https://www.star.nesdis.noaa.gov/sod/sst/iquam/'},\n",
       "  {'inherited': True,\n",
       "   'rel': 'http://esipfed.org/ns/fedsearch/1.1/documentation#',\n",
       "   'hreflang': 'en-US',\n",
       "   'href': 'https://ghrsst.jpl.nasa.gov'},\n",
       "  {'inherited': True,\n",
       "   'rel': 'http://esipfed.org/ns/fedsearch/1.1/documentation#',\n",
       "   'hreflang': 'en-US',\n",
       "   'href': 'https://www.star.nesdis.noaa.gov/sod/sst/micros/'},\n",
       "  {'inherited': True,\n",
       "   'rel': 'http://esipfed.org/ns/fedsearch/1.1/documentation#',\n",
       "   'hreflang': 'en-US',\n",
       "   'href': 'https://www.star.nesdis.noaa.gov/sod/sst/squam/'},\n",
       "  {'inherited': True,\n",
       "   'rel': 'http://esipfed.org/ns/fedsearch/1.1/documentation#',\n",
       "   'hreflang': 'en-US',\n",
       "   'href': 'https://podaac.jpl.nasa.gov/CitingPODAAC'},\n",
       "  {'inherited': True,\n",
       "   'length': '0.0MB',\n",
       "   'rel': 'http://esipfed.org/ns/fedsearch/1.1/data#',\n",
       "   'hreflang': 'en-US',\n",
       "   'href': 'https://cmr.earthdata.nasa.gov/virtual-directory/collections/C2036877595-POCLOUD'},\n",
       "  {'inherited': True,\n",
       "   'length': '0.0MB',\n",
       "   'rel': 'http://esipfed.org/ns/fedsearch/1.1/data#',\n",
       "   'hreflang': 'en-US',\n",
       "   'href': 'https://search.earthdata.nasa.gov/search/granules?p=C2036877595-POCLOUD'}]}"
      ]
     },
     "execution_count": 10,
     "metadata": {},
     "output_type": "execute_result"
    }
   ],
   "source": [
    "gran"
   ]
  },
  {
   "cell_type": "markdown",
   "id": "9b954d73-7a32-4ca5-9d69-4aadddab6e3b",
   "metadata": {},
   "source": [
    "## Plot all SST images available during the S-MODE windows and pick good days"
   ]
  },
  {
   "cell_type": "markdown",
   "id": "23849526-0d73-4438-b720-5ecb5d72181c",
   "metadata": {},
   "source": [
    "Load in the data with xarray.open_mfdataset().  The one trick for the s3 access here is to use list comprehension to modify the list of granule URLs into a list of open s3 files before passing to xr.open_mfdataset().  \n",
    "\n",
    "_(Is that description correct??)_"
   ]
  },
  {
   "cell_type": "code",
   "execution_count": null,
   "id": "4d777b3b-a4e6-4f53-a5c1-5515a83d5668",
   "metadata": {},
   "outputs": [],
   "source": [
    "# This loads a single file\n",
    "# ds = xr.open_dataset(fs.open(granules_url[1]),drop_variables=['dt_analysis','satellite_zenith_angle','sses_bias','wind speed']).sel(lon=slice(lon_min,lon_max), lat=slice(lat_max,lat_min))"
   ]
  },
  {
   "cell_type": "code",
   "execution_count": null,
   "id": "6f33ca53-f2fa-4fb2-9cc2-da80805a500f",
   "metadata": {},
   "outputs": [
    {
     "ename": "NameError",
     "evalue": "name 'fs' is not defined",
     "output_type": "error",
     "traceback": [
      "\u001b[1;31m---------------------------------------------------------------------------\u001b[0m",
      "\u001b[1;31mNameError\u001b[0m                                 Traceback (most recent call last)",
      "\u001b[1;32m<ipython-input-11-80f28daac0b1>\u001b[0m in \u001b[0;36m<module>\u001b[1;34m\u001b[0m\n\u001b[1;32m----> 1\u001b[1;33m \u001b[0mfile_list\u001b[0m \u001b[1;33m=\u001b[0m  \u001b[1;33m[\u001b[0m\u001b[0mfs\u001b[0m\u001b[1;33m.\u001b[0m\u001b[0mopen\u001b[0m\u001b[1;33m(\u001b[0m\u001b[0mfile\u001b[0m\u001b[1;33m)\u001b[0m \u001b[1;32mfor\u001b[0m \u001b[0mfile\u001b[0m \u001b[1;32min\u001b[0m \u001b[0mgranules_url\u001b[0m\u001b[1;33m]\u001b[0m\u001b[1;33m\u001b[0m\u001b[1;33m\u001b[0m\u001b[0m\n\u001b[0m\u001b[0;32m      2\u001b[0m \u001b[0mds\u001b[0m \u001b[1;33m=\u001b[0m \u001b[0mxr\u001b[0m\u001b[1;33m.\u001b[0m\u001b[0mopen_mfdataset\u001b[0m\u001b[1;33m(\u001b[0m\u001b[0mfile_list\u001b[0m\u001b[1;33m,\u001b[0m\u001b[0mdrop_variables\u001b[0m\u001b[1;33m=\u001b[0m\u001b[1;33m[\u001b[0m\u001b[1;34m'dt_analysis'\u001b[0m\u001b[1;33m,\u001b[0m\u001b[1;34m'satellite_zenith_angle'\u001b[0m\u001b[1;33m,\u001b[0m\u001b[1;34m'sses_bias'\u001b[0m\u001b[1;33m,\u001b[0m\u001b[1;34m'wind speed'\u001b[0m\u001b[1;33m]\u001b[0m\u001b[1;33m)\u001b[0m\u001b[1;33m.\u001b[0m\u001b[0msel\u001b[0m\u001b[1;33m(\u001b[0m\u001b[0mlon\u001b[0m\u001b[1;33m=\u001b[0m\u001b[0mslice\u001b[0m\u001b[1;33m(\u001b[0m\u001b[0mlon_min\u001b[0m\u001b[1;33m,\u001b[0m\u001b[0mlon_max\u001b[0m\u001b[1;33m)\u001b[0m\u001b[1;33m,\u001b[0m \u001b[0mlat\u001b[0m\u001b[1;33m=\u001b[0m\u001b[0mslice\u001b[0m\u001b[1;33m(\u001b[0m\u001b[0mlat_max\u001b[0m\u001b[1;33m,\u001b[0m\u001b[0mlat_min\u001b[0m\u001b[1;33m)\u001b[0m\u001b[1;33m)\u001b[0m\u001b[1;33m\u001b[0m\u001b[1;33m\u001b[0m\u001b[0m\n",
      "\u001b[1;32m<ipython-input-11-80f28daac0b1>\u001b[0m in \u001b[0;36m<listcomp>\u001b[1;34m(.0)\u001b[0m\n\u001b[1;32m----> 1\u001b[1;33m \u001b[0mfile_list\u001b[0m \u001b[1;33m=\u001b[0m  \u001b[1;33m[\u001b[0m\u001b[0mfs\u001b[0m\u001b[1;33m.\u001b[0m\u001b[0mopen\u001b[0m\u001b[1;33m(\u001b[0m\u001b[0mfile\u001b[0m\u001b[1;33m)\u001b[0m \u001b[1;32mfor\u001b[0m \u001b[0mfile\u001b[0m \u001b[1;32min\u001b[0m \u001b[0mgranules_url\u001b[0m\u001b[1;33m]\u001b[0m\u001b[1;33m\u001b[0m\u001b[1;33m\u001b[0m\u001b[0m\n\u001b[0m\u001b[0;32m      2\u001b[0m \u001b[0mds\u001b[0m \u001b[1;33m=\u001b[0m \u001b[0mxr\u001b[0m\u001b[1;33m.\u001b[0m\u001b[0mopen_mfdataset\u001b[0m\u001b[1;33m(\u001b[0m\u001b[0mfile_list\u001b[0m\u001b[1;33m,\u001b[0m\u001b[0mdrop_variables\u001b[0m\u001b[1;33m=\u001b[0m\u001b[1;33m[\u001b[0m\u001b[1;34m'dt_analysis'\u001b[0m\u001b[1;33m,\u001b[0m\u001b[1;34m'satellite_zenith_angle'\u001b[0m\u001b[1;33m,\u001b[0m\u001b[1;34m'sses_bias'\u001b[0m\u001b[1;33m,\u001b[0m\u001b[1;34m'wind speed'\u001b[0m\u001b[1;33m]\u001b[0m\u001b[1;33m)\u001b[0m\u001b[1;33m.\u001b[0m\u001b[0msel\u001b[0m\u001b[1;33m(\u001b[0m\u001b[0mlon\u001b[0m\u001b[1;33m=\u001b[0m\u001b[0mslice\u001b[0m\u001b[1;33m(\u001b[0m\u001b[0mlon_min\u001b[0m\u001b[1;33m,\u001b[0m\u001b[0mlon_max\u001b[0m\u001b[1;33m)\u001b[0m\u001b[1;33m,\u001b[0m \u001b[0mlat\u001b[0m\u001b[1;33m=\u001b[0m\u001b[0mslice\u001b[0m\u001b[1;33m(\u001b[0m\u001b[0mlat_max\u001b[0m\u001b[1;33m,\u001b[0m\u001b[0mlat_min\u001b[0m\u001b[1;33m)\u001b[0m\u001b[1;33m)\u001b[0m\u001b[1;33m\u001b[0m\u001b[1;33m\u001b[0m\u001b[0m\n",
      "\u001b[1;31mNameError\u001b[0m: name 'fs' is not defined"
     ]
    }
   ],
   "source": [
    "file_list =  [fs.open(file) for file in granules_url]\n",
    "ds = xr.open_mfdataset(file_list,drop_variables=['dt_analysis','satellite_zenith_angle','sses_bias','wind speed']).sel(lon=slice(lon_min,lon_max), lat=slice(lat_max,lat_min))"
   ]
  },
  {
   "cell_type": "code",
   "execution_count": null,
   "id": "994b10a2-f861-4104-9368-1739cb9047f5",
   "metadata": {},
   "outputs": [],
   "source": [
    "#  Plot the whole timeseries with hvplot\n",
    "\n",
    "sst = ds.sea_surface_temperature-273.15\n",
    "sst.hvplot(groupby='time', width=600, height=400, clim=(10, 20), cmap='plasma')"
   ]
  },
  {
   "cell_type": "markdown",
   "id": "d922f7c8-bf18-4523-9e64-ef9c42092549",
   "metadata": {},
   "source": [
    "As expected, there are lots of times with no useful data.  (There is an interactive plot above, but it may not render in a static view.)"
   ]
  },
  {
   "cell_type": "markdown",
   "id": "8cea724c-0be0-4e04-bcac-6cbab70f1c73",
   "metadata": {},
   "source": [
    "## Make a metric to select times with clear skies in region of interest\n",
    "\n",
    "The idea here is to choose a box defining region of interest and use quality flag or NaN mask to count bad/good pixels\n"
   ]
  },
  {
   "cell_type": "code",
   "execution_count": null,
   "id": "bab89499-2cca-47e5-a375-f4f4a1dee16c",
   "metadata": {},
   "outputs": [],
   "source": [
    "# Define a box where we want data (may be different than larger analysis domain)\n",
    "# Still centered on lon0,lat0\n",
    "dlon = 0.5 # half of box width in lon\n",
    "dlat = 0.5 # half of box width in lat\n",
    "\n",
    "# Define the max/min lon\n",
    "x1 = lon0 - dlon\n",
    "x2 = lon0 + dlon\n",
    "y1 = lat0 - dlat\n",
    "y2 = lat0 + dlat"
   ]
  },
  {
   "cell_type": "code",
   "execution_count": null,
   "id": "31717cb0-215f-486c-95e0-df400b850d15",
   "metadata": {},
   "outputs": [],
   "source": [
    "# Make a time series in that box\n",
    "# Compute mean value of \"not NaN\" (notnull) in the box\n",
    "good_data = ds.sea_surface_temperature.sel(lat=slice(y2,y1), lon=slice(x1,x2)).notnull().mean({'lon','lat'})\n",
    "np.shape(good_data)"
   ]
  },
  {
   "cell_type": "code",
   "execution_count": null,
   "id": "aae6caf8-992c-44fb-994f-3378213b59bc",
   "metadata": {},
   "outputs": [],
   "source": [
    "fig = plt.figure(figsize=(4,3),dpi=200)\n",
    "plt.plot(good_data['time'],good_data,marker='o')\n",
    "fig.autofmt_xdate()\n",
    "plt.title('Values near 1 indicate clear skies')"
   ]
  },
  {
   "cell_type": "code",
   "execution_count": null,
   "id": "ba86b3cc-6613-4e5e-a663-e971de6c669f",
   "metadata": {},
   "outputs": [],
   "source": [
    "good_times = good_data['time'].where(good_data>0.95,drop=True)\n",
    "np.shape(good_times)"
   ]
  },
  {
   "cell_type": "code",
   "execution_count": null,
   "id": "327267f2-38c3-4a10-b09a-a4f2e65f671f",
   "metadata": {},
   "outputs": [],
   "source": [
    "good_times[-1].values"
   ]
  },
  {
   "cell_type": "markdown",
   "id": "9764efd1-6c87-4d30-bf80-13d7e19d3657",
   "metadata": {},
   "source": [
    "## Choose a particular time\n"
   ]
  },
  {
   "cell_type": "code",
   "execution_count": null,
   "id": "b22ddc94-059a-4026-b605-4b63c9aa1ea9",
   "metadata": {},
   "outputs": [],
   "source": [
    "# Find the data near this time\n",
    "d = good_times[-1] # np.datetime64('2021-11-05T00:00:00Z')"
   ]
  },
  {
   "cell_type": "code",
   "execution_count": null,
   "id": "a2e1ba62-4f5a-4f39-8156-febdf8c2d8de",
   "metadata": {},
   "outputs": [],
   "source": [
    "ds2 = ds.sel(time=d,method='nearest')"
   ]
  },
  {
   "cell_type": "code",
   "execution_count": null,
   "id": "0f24c905-b890-4b24-a60f-a33cbd8560ff",
   "metadata": {},
   "outputs": [],
   "source": [
    "# This string of the time of the SST selected will be useful\n",
    "day_str = np.datetime_as_string(ds2.time,unit='m')"
   ]
  },
  {
   "cell_type": "code",
   "execution_count": null,
   "id": "05187dc7-a2da-4326-96c9-820ec64baaf5",
   "metadata": {},
   "outputs": [],
   "source": [
    "fig = plt.figure()\n",
    "ax = plt.axes(projection = ccrs.PlateCarree(central_longitude=-125))  # Orthographic\n",
    "extent = [lon_min, lon_max,lat_min, lat_max]\n",
    "ax.set_extent(extent, crs=ccrs.PlateCarree())\n",
    "\n",
    "\n",
    "plt.set_cmap(cmap=plt.get_cmap('turbo'))\n",
    "gl = ax.gridlines(draw_labels=True, dms=True, x_inline=False, y_inline=False, alpha=0.5, linestyle='--')\n",
    "gl.top_labels = False\n",
    "gl.right_labels = False\n",
    "ax.set_title('SST, ' + day_str, size = 10.)\n",
    "\n",
    "ax.coastlines()\n",
    "ax.add_feature(cartopy.feature.LAND, zorder=3, facecolor=[.6,.6,.6], edgecolor='black')\n",
    "cs = ax.pcolormesh(ds2.lon,ds2.lat,ds2.sea_surface_temperature.squeeze()-274.15,vmin=12.5,vmax=15,transform=ccrs.PlateCarree())\n",
    "# cs = ax.pcolormesh(ds2.lon,ds2.lat,ds2.sea_surface_temperature.squeeze().notnull(),transform=ccrs.PlateCarree())\n",
    "cb = plt.colorbar(cs,fraction = 0.022,extend='both')\n",
    "cb.set_label('SST [$\\circ$C]',fontsize = 10)\n"
   ]
  },
  {
   "cell_type": "code",
   "execution_count": null,
   "id": "3394ae69-1fa2-4f13-87aa-75857788df81",
   "metadata": {},
   "outputs": [],
   "source": []
  }
 ],
 "metadata": {
  "kernelspec": {
   "display_name": "Python 3",
   "language": "python",
   "name": "python3"
  },
  "language_info": {
   "codemirror_mode": {
    "name": "ipython",
    "version": 3
   },
   "file_extension": ".py",
   "mimetype": "text/x-python",
   "name": "python",
   "nbconvert_exporter": "python",
   "pygments_lexer": "ipython3",
   "version": "3.8.6"
  }
 },
 "nbformat": 4,
 "nbformat_minor": 5
}
